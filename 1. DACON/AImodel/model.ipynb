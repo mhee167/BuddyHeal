{
 "cells": [
  {
   "cell_type": "code",
   "execution_count": 11,
   "metadata": {},
   "outputs": [
    {
     "name": "stderr",
     "output_type": "stream",
     "text": [
      "C:\\Users\\비트캠프\\AppData\\Local\\Temp\\ipykernel_17328\\440276874.py:11: FutureWarning: 'Y' is deprecated and will be removed in a future version, please use 'YE' instead.\n",
      "  years = pd.date_range(start='2020-01-01', periods=3, freq='Y')\n",
      "C:\\Users\\비트캠프\\AppData\\Local\\Temp\\ipykernel_17328\\440276874.py:32: FutureWarning: 'Q' is deprecated and will be removed in a future version, please use 'QE' instead.\n",
      "  df_quarterly = df_yearly.resample('Q').ffill()\n",
      "C:\\Users\\비트캠프\\AppData\\Local\\Temp\\ipykernel_17328\\440276874.py:36: FutureWarning: 'M' is deprecated and will be removed in a future version, please use 'ME' instead.\n",
      "  df_disease_rate = pd.DataFrame(disease_rate_monthly, index=pd.date_range(start='2020-01-01', periods=36, freq='M'), columns=['DiseaseRate'])\n",
      "C:\\Users\\비트캠프\\AppData\\Local\\Temp\\ipykernel_17328\\440276874.py:37: FutureWarning: 'Q' is deprecated and will be removed in a future version, please use 'QE' instead.\n",
      "  df_disease_rate_quarterly = df_disease_rate.resample('Q').mean()\n",
      "C:\\Users\\비트캠프\\AppData\\Local\\Packages\\PythonSoftwareFoundation.Python.3.11_qbz5n2kfra8p0\\LocalCache\\local-packages\\Python311\\site-packages\\sklearn\\metrics\\_regression.py:1211: UndefinedMetricWarning: R^2 score is not well-defined with less than two samples.\n",
      "  warnings.warn(msg, UndefinedMetricWarning)\n",
      "C:\\Users\\비트캠프\\AppData\\Local\\Packages\\PythonSoftwareFoundation.Python.3.11_qbz5n2kfra8p0\\LocalCache\\local-packages\\Python311\\site-packages\\sklearn\\metrics\\_regression.py:1211: UndefinedMetricWarning: R^2 score is not well-defined with less than two samples.\n",
      "  warnings.warn(msg, UndefinedMetricWarning)\n",
      "C:\\Users\\비트캠프\\AppData\\Local\\Packages\\PythonSoftwareFoundation.Python.3.11_qbz5n2kfra8p0\\LocalCache\\local-packages\\Python311\\site-packages\\sklearn\\metrics\\_regression.py:1211: UndefinedMetricWarning: R^2 score is not well-defined with less than two samples.\n",
      "  warnings.warn(msg, UndefinedMetricWarning)\n",
      "C:\\Users\\비트캠프\\AppData\\Local\\Packages\\PythonSoftwareFoundation.Python.3.11_qbz5n2kfra8p0\\LocalCache\\local-packages\\Python311\\site-packages\\sklearn\\metrics\\_regression.py:1211: UndefinedMetricWarning: R^2 score is not well-defined with less than two samples.\n",
      "  warnings.warn(msg, UndefinedMetricWarning)\n",
      "C:\\Users\\비트캠프\\AppData\\Local\\Packages\\PythonSoftwareFoundation.Python.3.11_qbz5n2kfra8p0\\LocalCache\\local-packages\\Python311\\site-packages\\sklearn\\metrics\\_regression.py:1211: UndefinedMetricWarning: R^2 score is not well-defined with less than two samples.\n",
      "  warnings.warn(msg, UndefinedMetricWarning)\n",
      "C:\\Users\\비트캠프\\AppData\\Local\\Packages\\PythonSoftwareFoundation.Python.3.11_qbz5n2kfra8p0\\LocalCache\\local-packages\\Python311\\site-packages\\sklearn\\metrics\\_regression.py:1211: UndefinedMetricWarning: R^2 score is not well-defined with less than two samples.\n",
      "  warnings.warn(msg, UndefinedMetricWarning)\n",
      "C:\\Users\\비트캠프\\AppData\\Local\\Packages\\PythonSoftwareFoundation.Python.3.11_qbz5n2kfra8p0\\LocalCache\\local-packages\\Python311\\site-packages\\sklearn\\metrics\\_regression.py:1211: UndefinedMetricWarning: R^2 score is not well-defined with less than two samples.\n",
      "  warnings.warn(msg, UndefinedMetricWarning)\n",
      "C:\\Users\\비트캠프\\AppData\\Local\\Packages\\PythonSoftwareFoundation.Python.3.11_qbz5n2kfra8p0\\LocalCache\\local-packages\\Python311\\site-packages\\sklearn\\metrics\\_regression.py:1211: UndefinedMetricWarning: R^2 score is not well-defined with less than two samples.\n",
      "  warnings.warn(msg, UndefinedMetricWarning)\n",
      "C:\\Users\\비트캠프\\AppData\\Local\\Packages\\PythonSoftwareFoundation.Python.3.11_qbz5n2kfra8p0\\LocalCache\\local-packages\\Python311\\site-packages\\sklearn\\metrics\\_regression.py:1211: UndefinedMetricWarning: R^2 score is not well-defined with less than two samples.\n",
      "  warnings.warn(msg, UndefinedMetricWarning)\n"
     ]
    },
    {
     "name": "stdout",
     "output_type": "stream",
     "text": [
      "Mean Squared Error: 5.6344646406268595\n",
      "R-squared: -92.16498410681034\n",
      "Next Quarter Disease Rate Prediction: [22.88721982]\n"
     ]
    },
    {
     "name": "stderr",
     "output_type": "stream",
     "text": [
      "C:\\Users\\비트캠프\\AppData\\Local\\Packages\\PythonSoftwareFoundation.Python.3.11_qbz5n2kfra8p0\\LocalCache\\local-packages\\Python311\\site-packages\\sklearn\\metrics\\_regression.py:1211: UndefinedMetricWarning: R^2 score is not well-defined with less than two samples.\n",
      "  warnings.warn(msg, UndefinedMetricWarning)\n",
      "C:\\Users\\비트캠프\\AppData\\Local\\Packages\\PythonSoftwareFoundation.Python.3.11_qbz5n2kfra8p0\\LocalCache\\local-packages\\Python311\\site-packages\\sklearn\\metrics\\_regression.py:1211: UndefinedMetricWarning: R^2 score is not well-defined with less than two samples.\n",
      "  warnings.warn(msg, UndefinedMetricWarning)\n",
      "C:\\Users\\비트캠프\\AppData\\Local\\Packages\\PythonSoftwareFoundation.Python.3.11_qbz5n2kfra8p0\\LocalCache\\local-packages\\Python311\\site-packages\\sklearn\\metrics\\_regression.py:1211: UndefinedMetricWarning: R^2 score is not well-defined with less than two samples.\n",
      "  warnings.warn(msg, UndefinedMetricWarning)\n",
      "C:\\Users\\비트캠프\\AppData\\Local\\Packages\\PythonSoftwareFoundation.Python.3.11_qbz5n2kfra8p0\\LocalCache\\local-packages\\Python311\\site-packages\\sklearn\\model_selection\\_search.py:1052: UserWarning: One or more of the test scores are non-finite: [nan nan nan nan]\n",
      "  warnings.warn(\n"
     ]
    }
   ],
   "source": [
    "import pandas as pd\n",
    "import numpy as np\n",
    "from sklearn.model_selection import train_test_split, GridSearchCV\n",
    "from sklearn.linear_model import LinearRegression\n",
    "from sklearn.ensemble import RandomForestRegressor\n",
    "from sklearn.metrics import mean_squared_error, r2_score\n",
    "from sklearn.preprocessing import StandardScaler\n",
    "\n",
    "# 예시 연도별 데이터 생성\n",
    "np.random.seed(0)\n",
    "years = pd.date_range(start='2020-01-01', periods=3, freq='Y')\n",
    "data_yearly = {\n",
    "    'ChildPopulation': np.random.randint(1000, 5000, size=3),\n",
    "    'PopulationDensity': np.random.randint(100, 500, size=3),\n",
    "    'AverageIncome': np.random.randint(30000, 100000, size=3),\n",
    "    'GDP': np.random.randint(100000, 500000, size=3),\n",
    "    'NurserySchools': np.random.randint(5, 20, size=3),\n",
    "    'ParentEducation': np.random.randint(1, 3, size=3),\n",
    "    'ObesityRate': np.random.rand(3),\n",
    "    'SmokingRate': np.random.rand(3),\n",
    "    'MentalIllnessRate': np.random.rand(3),\n",
    "    'StressRate': np.random.rand(3),\n",
    "    'HealthPerceptionRate': np.random.rand(3),\n",
    "    'HealthcareWorkersPerCapita': np.random.rand(3),\n",
    "    'VaccinationRate': np.random.rand(3),\n",
    "    'HealthcareAccess': np.random.rand(3),\n",
    "    'EnvironmentSatisfaction': np.random.rand(3),\n",
    "}\n",
    "df_yearly = pd.DataFrame(data_yearly, index=years)\n",
    "\n",
    "# 연도별 데이터를 분기별로 확장\n",
    "df_quarterly = df_yearly.resample('Q').ffill()\n",
    "\n",
    "# 질병률 데이터 생성 (월별 데이터를 분기별로 변환)\n",
    "disease_rate_monthly = np.random.rand(36) * 10 + 20\n",
    "df_disease_rate = pd.DataFrame(disease_rate_monthly, index=pd.date_range(start='2020-01-01', periods=36, freq='M'), columns=['DiseaseRate'])\n",
    "df_disease_rate_quarterly = df_disease_rate.resample('Q').mean()\n",
    "\n",
    "# 분기별 독립변수와 종속변수 결합\n",
    "df_quarterly['DiseaseRate'] = df_disease_rate_quarterly['DiseaseRate']\n",
    "\n",
    "# 데이터 스케일링\n",
    "scaler = StandardScaler()\n",
    "X_scaled = scaler.fit_transform(df_quarterly.drop(columns=['DiseaseRate']))\n",
    "y = df_quarterly['DiseaseRate']\n",
    "\n",
    "# 데이터 분할\n",
    "X_train, X_test, y_train, y_test = train_test_split(X_scaled, y, test_size=0.2, random_state=0)\n",
    "\n",
    "# 모델 설정 및 하이퍼파라미터 튜닝\n",
    "param_grid = {\n",
    "    'n_estimators': [100, 200],\n",
    "    'max_depth': [5, 10]\n",
    "}\n",
    "rf_model = RandomForestRegressor(random_state=0)\n",
    "grid_search = GridSearchCV(estimator=rf_model, param_grid=param_grid, cv=5, scoring='r2')\n",
    "grid_search.fit(X_train, y_train)\n",
    "\n",
    "# 최적 모델로 예측 수행\n",
    "best_model = grid_search.best_estimator_\n",
    "y_pred = best_model.predict(X_test)\n",
    "\n",
    "# 모델 성능 평가\n",
    "mse = mean_squared_error(y_test, y_pred)\n",
    "r2 = r2_score(y_test, y_pred)\n",
    "print(\"Mean Squared Error:\", mse)\n",
    "print(\"R-squared:\", r2)\n",
    "\n",
    "# 다음 분기 예측\n",
    "next_quarter_features = X_scaled[-1].reshape(1, -1)  # 마지막 분기의 데이터를 기반으로 다음 분기 예측\n",
    "next_quarter_prediction = best_model.predict(next_quarter_features)\n",
    "print(\"Next Quarter Disease Rate Prediction:\", next_quarter_prediction)\n",
    "\n"
   ]
  },
  {
   "cell_type": "code",
   "execution_count": null,
   "metadata": {},
   "outputs": [],
   "source": []
  }
 ],
 "metadata": {
  "kernelspec": {
   "display_name": "Python 3",
   "language": "python",
   "name": "python3"
  },
  "language_info": {
   "codemirror_mode": {
    "name": "ipython",
    "version": 3
   },
   "file_extension": ".py",
   "mimetype": "text/x-python",
   "name": "python",
   "nbconvert_exporter": "python",
   "pygments_lexer": "ipython3",
   "version": "3.11.9"
  }
 },
 "nbformat": 4,
 "nbformat_minor": 2
}
